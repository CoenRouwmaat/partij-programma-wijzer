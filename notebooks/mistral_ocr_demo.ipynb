{
 "cells": [
  {
   "cell_type": "markdown",
   "id": "f9dae04d",
   "metadata": {},
   "source": [
    "## Setup"
   ]
  },
  {
   "cell_type": "markdown",
   "id": "922ae95d",
   "metadata": {},
   "source": [
    "### Imports"
   ]
  },
  {
   "cell_type": "code",
   "execution_count": null,
   "id": "435ba308",
   "metadata": {},
   "outputs": [],
   "source": [
    "import os\n",
    "from pathlib import Path\n",
    "\n",
    "from dotenv import load_dotenv\n",
    "from loguru import logger\n",
    "from mistralai import Mistral"
   ]
  },
  {
   "cell_type": "markdown",
   "id": "ef70e66d",
   "metadata": {},
   "source": [
    "### Config"
   ]
  },
  {
   "cell_type": "code",
   "execution_count": null,
   "id": "b9e113a2",
   "metadata": {},
   "outputs": [],
   "source": [
    "load_dotenv()\n",
    "\n",
    "mistral_api_key = os.getenv(\"MISTRAL_API_KEY\")\n",
    "if not mistral_api_key:\n",
    "    raise ValueError(\"Mistral api key not present in .env\")\n",
    "\n",
    "mistral_client = Mistral(api_key=mistral_api_key)\n",
    "\n",
    "party = \"50PLUS\""
   ]
  },
  {
   "cell_type": "markdown",
   "id": "8de7b88c",
   "metadata": {},
   "source": [
    "## Process PDF with Mistral OCR"
   ]
  },
  {
   "cell_type": "markdown",
   "id": "31ab3b12",
   "metadata": {},
   "source": [
    "### Upload PDF to Mistral"
   ]
  },
  {
   "cell_type": "code",
   "execution_count": null,
   "id": "7dac2950",
   "metadata": {},
   "outputs": [],
   "source": [
    "filename = f\"Verkiezingsprogramma {party}.pdf\"\n",
    "file = Path.cwd().parent / \"data\" / \"pdfs\" / filename\n",
    "\n",
    "if not file.exists():\n",
    "    raise ValueError(f\"The file {file} does not exist.\")\n",
    "\n",
    "logger.info(f\"Uploading {filename} to Mistral...\")\n",
    "uploaded_pdf = mistral_client.files.upload(\n",
    "    file={\n",
    "        \"file_name\": filename,\n",
    "        \"content\": open(file, \"rb\"),\n",
    "    },\n",
    "    purpose=\"ocr\"\n",
    ")\n",
    "document_url = mistral_client.files.get_signed_url(file_id=uploaded_pdf.id)"
   ]
  },
  {
   "cell_type": "markdown",
   "id": "9a6ed20e",
   "metadata": {},
   "source": [
    "### Process uploaded document"
   ]
  },
  {
   "cell_type": "code",
   "execution_count": null,
   "id": "3aded401",
   "metadata": {},
   "outputs": [],
   "source": [
    "logger.info(f\"Running OCR on document {document_url}...\")\n",
    "ocr_result = mistral_client.ocr.process(\n",
    "    model=\"mistral-ocr-latest\",\n",
    "    document={\n",
    "        \"type\": \"document_url\",\n",
    "        \"document_url\": document_url.url,\n",
    "    },\n",
    "    include_image_base64=False\n",
    ")"
   ]
  },
  {
   "cell_type": "markdown",
   "id": "987d55df",
   "metadata": {},
   "source": [
    "### Extract markdown from results"
   ]
  },
  {
   "cell_type": "code",
   "execution_count": null,
   "id": "d2f8b0a3",
   "metadata": {},
   "outputs": [],
   "source": [
    "response_markdown = '\\n\\n'.join([page.markdown for page in ocr_result.pages])\n",
    "print(response_markdown)"
   ]
  }
 ],
 "metadata": {
  "kernelspec": {
   "display_name": "partij_programma_wijzer",
   "language": "python",
   "name": "python3"
  },
  "language_info": {
   "codemirror_mode": {
    "name": "ipython",
    "version": 3
   },
   "file_extension": ".py",
   "mimetype": "text/x-python",
   "name": "python",
   "nbconvert_exporter": "python",
   "pygments_lexer": "ipython3",
   "version": "3.12.6"
  }
 },
 "nbformat": 4,
 "nbformat_minor": 5
}
