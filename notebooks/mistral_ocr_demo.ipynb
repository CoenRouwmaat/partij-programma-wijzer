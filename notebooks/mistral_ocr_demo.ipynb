{
 "cells": [
  {
   "cell_type": "markdown",
   "id": "922ae95d",
   "metadata": {},
   "source": [
    "## Imports"
   ]
  },
  {
   "cell_type": "code",
   "execution_count": null,
   "id": "435ba308",
   "metadata": {},
   "outputs": [],
   "source": [
    "import os\n",
    "\n",
    "from dotenv import load_dotenv\n",
    "from loguru import logger\n",
    "from mistralai import Mistral\n",
    "\n",
    "from src.config import FilePaths, MistralConfig\n",
    "from src.enums import Party"
   ]
  },
  {
   "cell_type": "markdown",
   "id": "ef70e66d",
   "metadata": {},
   "source": [
    "## Config"
   ]
  },
  {
   "cell_type": "code",
   "execution_count": 4,
   "id": "b9e113a2",
   "metadata": {},
   "outputs": [],
   "source": [
    "load_dotenv()\n",
    "\n",
    "mistral_client = Mistral(api_key=os.getenv(\"MISTRAL_API_KEY\"))\n",
    "\n",
    "party = Party.VIJFTIG_PLUS"
   ]
  },
  {
   "cell_type": "markdown",
   "id": "8de7b88c",
   "metadata": {},
   "source": [
    "## Upload PDF to Mistral"
   ]
  },
  {
   "cell_type": "code",
   "execution_count": 5,
   "id": "7dac2950",
   "metadata": {},
   "outputs": [
    {
     "name": "stderr",
     "output_type": "stream",
     "text": [
      "\u001b[32m2025-09-21 22:26:25.610\u001b[0m | \u001b[1mINFO    \u001b[0m | \u001b[36m__main__\u001b[0m:\u001b[36m<module>\u001b[0m:\u001b[36m7\u001b[0m - \u001b[1mUploading Verkiezingsprogramma 50PLUS.pdf to Mistral...\u001b[0m\n"
     ]
    }
   ],
   "source": [
    "filename = f\"Verkiezingsprogramma {party}.pdf\"\n",
    "file = FilePaths.pdf_dir / filename\n",
    "\n",
    "if not file.exists():\n",
    "    raise ValueError(f\"The file {file} does not exist.\")\n",
    "\n",
    "logger.info(f\"Uploading {filename} to Mistral...\")\n",
    "uploaded_pdf = mistral_client.files.upload(\n",
    "    file={\n",
    "        \"file_name\": filename,\n",
    "        \"content\": open(file, \"rb\"),\n",
    "    },\n",
    "    purpose=\"ocr\"\n",
    ")\n",
    "document_url = mistral_client.files.get_signed_url(file_id=uploaded_pdf.id)"
   ]
  },
  {
   "cell_type": "code",
   "execution_count": null,
   "id": "3aded401",
   "metadata": {},
   "outputs": [
    {
     "name": "stderr",
     "output_type": "stream",
     "text": [
      "\u001b[32m2025-09-21 22:27:02.844\u001b[0m | \u001b[1mINFO    \u001b[0m | \u001b[36m__main__\u001b[0m:\u001b[36m<module>\u001b[0m:\u001b[36m1\u001b[0m - \u001b[1mRunning OCR on document url='https://mistralaifilesapiprodswe.blob.core.windows.net/fine-tune/f8cb6264-0e00-4357-9f2d-687713d1ae0d/b858bf61-30f8-4434-8417-5fbc3e5bf35c/eaa07f4fe4e84f8cbd5983a26f8782cd.pdf?se=2025-09-22T20%3A26%3A26Z&sp=r&sv=2025-01-05&sr=b&sig=zI3zxV3VT2DsmpmINHkgtngt/S/8nk6BYhUM8hNFgkA%3D'...\u001b[0m\n"
     ]
    },
    {
     "ename": "ValidationError",
     "evalue": "5 validation errors for OCRRequest\ndocument.FileChunk.file_id\n  Field required [type=missing, input_value={'type': 'document_url', ...S/8nk6BYhUM8hNFgkA%3D')}, input_type=dict]\n    For further information visit https://errors.pydantic.dev/2.11/v/missing\ndocument.FileChunk.type\n  Input should be 'file' [type=literal_error, input_value='document_url', input_type=str]\n    For further information visit https://errors.pydantic.dev/2.11/v/literal_error\ndocument.ImageURLChunk.image_url\n  Field required [type=missing, input_value={'type': 'document_url', ...S/8nk6BYhUM8hNFgkA%3D')}, input_type=dict]\n    For further information visit https://errors.pydantic.dev/2.11/v/missing\ndocument.ImageURLChunk.type\n  Input should be 'image_url' [type=literal_error, input_value='document_url', input_type=str]\n    For further information visit https://errors.pydantic.dev/2.11/v/literal_error\ndocument.DocumentURLChunk.document_url\n  Input should be a valid string [type=string_type, input_value=FileSignedURL(url='https:.../S/8nk6BYhUM8hNFgkA%3D'), input_type=FileSignedURL]\n    For further information visit https://errors.pydantic.dev/2.11/v/string_type",
     "output_type": "error",
     "traceback": [
      "\u001b[31m---------------------------------------------------------------------------\u001b[39m",
      "\u001b[31mValidationError\u001b[39m                           Traceback (most recent call last)",
      "\u001b[36mCell\u001b[39m\u001b[36m \u001b[39m\u001b[32mIn[7]\u001b[39m\u001b[32m, line 2\u001b[39m\n\u001b[32m      1\u001b[39m logger.info(\u001b[33mf\u001b[39m\u001b[33m\"\u001b[39m\u001b[33mRunning OCR on document \u001b[39m\u001b[38;5;132;01m{\u001b[39;00mdocument_url\u001b[38;5;132;01m}\u001b[39;00m\u001b[33m...\u001b[39m\u001b[33m\"\u001b[39m)\n\u001b[32m----> \u001b[39m\u001b[32m2\u001b[39m ocr_result = \u001b[43mmistral_client\u001b[49m\u001b[43m.\u001b[49m\u001b[43mocr\u001b[49m\u001b[43m.\u001b[49m\u001b[43mprocess\u001b[49m\u001b[43m(\u001b[49m\n\u001b[32m      3\u001b[39m \u001b[43m    \u001b[49m\u001b[43mmodel\u001b[49m\u001b[43m=\u001b[49m\u001b[43mMistralConfig\u001b[49m\u001b[43m.\u001b[49m\u001b[43mmistral_ocr_model\u001b[49m\u001b[43m,\u001b[49m\n\u001b[32m      4\u001b[39m \u001b[43m    \u001b[49m\u001b[43mdocument\u001b[49m\u001b[43m=\u001b[49m\u001b[43m{\u001b[49m\n\u001b[32m      5\u001b[39m \u001b[43m        \u001b[49m\u001b[33;43m\"\u001b[39;49m\u001b[33;43mtype\u001b[39;49m\u001b[33;43m\"\u001b[39;49m\u001b[43m:\u001b[49m\u001b[43m \u001b[49m\u001b[33;43m\"\u001b[39;49m\u001b[33;43mdocument_url\u001b[39;49m\u001b[33;43m\"\u001b[39;49m\u001b[43m,\u001b[49m\n\u001b[32m      6\u001b[39m \u001b[43m        \u001b[49m\u001b[33;43m\"\u001b[39;49m\u001b[33;43mdocument_url\u001b[39;49m\u001b[33;43m\"\u001b[39;49m\u001b[43m:\u001b[49m\u001b[43m \u001b[49m\u001b[43mdocument_url\u001b[49m\u001b[43m,\u001b[49m\n\u001b[32m      7\u001b[39m \u001b[43m    \u001b[49m\u001b[43m}\u001b[49m\u001b[43m,\u001b[49m\n\u001b[32m      8\u001b[39m \u001b[43m    \u001b[49m\u001b[43minclude_image_base64\u001b[49m\u001b[43m=\u001b[49m\u001b[38;5;28;43;01mFalse\u001b[39;49;00m\n\u001b[32m      9\u001b[39m \u001b[43m)\u001b[49m\n",
      "\u001b[36mFile \u001b[39m\u001b[32m~/Python/Projects/partij_programma_wijzer/.venv/lib/python3.12/site-packages/mistralai/ocr.py:61\u001b[39m, in \u001b[36mOcr.process\u001b[39m\u001b[34m(self, model, document, id, pages, include_image_base64, image_limit, image_min_size, bbox_annotation_format, document_annotation_format, retries, server_url, timeout_ms, http_headers)\u001b[39m\n\u001b[32m     58\u001b[39m \u001b[38;5;28;01melse\u001b[39;00m:\n\u001b[32m     59\u001b[39m     base_url = \u001b[38;5;28mself\u001b[39m._get_url(base_url, url_variables)\n\u001b[32m---> \u001b[39m\u001b[32m61\u001b[39m request = \u001b[43mmodels\u001b[49m\u001b[43m.\u001b[49m\u001b[43mOCRRequest\u001b[49m\u001b[43m(\u001b[49m\n\u001b[32m     62\u001b[39m \u001b[43m    \u001b[49m\u001b[43mmodel\u001b[49m\u001b[43m=\u001b[49m\u001b[43mmodel\u001b[49m\u001b[43m,\u001b[49m\n\u001b[32m     63\u001b[39m \u001b[43m    \u001b[49m\u001b[38;5;28;43mid\u001b[39;49m\u001b[43m=\u001b[49m\u001b[38;5;28;43mid\u001b[39;49m\u001b[43m,\u001b[49m\n\u001b[32m     64\u001b[39m \u001b[43m    \u001b[49m\u001b[43mdocument\u001b[49m\u001b[43m=\u001b[49m\u001b[43mutils\u001b[49m\u001b[43m.\u001b[49m\u001b[43mget_pydantic_model\u001b[49m\u001b[43m(\u001b[49m\u001b[43mdocument\u001b[49m\u001b[43m,\u001b[49m\u001b[43m \u001b[49m\u001b[43mmodels\u001b[49m\u001b[43m.\u001b[49m\u001b[43mDocument\u001b[49m\u001b[43m)\u001b[49m\u001b[43m,\u001b[49m\n\u001b[32m     65\u001b[39m \u001b[43m    \u001b[49m\u001b[43mpages\u001b[49m\u001b[43m=\u001b[49m\u001b[43mpages\u001b[49m\u001b[43m,\u001b[49m\n\u001b[32m     66\u001b[39m \u001b[43m    \u001b[49m\u001b[43minclude_image_base64\u001b[49m\u001b[43m=\u001b[49m\u001b[43minclude_image_base64\u001b[49m\u001b[43m,\u001b[49m\n\u001b[32m     67\u001b[39m \u001b[43m    \u001b[49m\u001b[43mimage_limit\u001b[49m\u001b[43m=\u001b[49m\u001b[43mimage_limit\u001b[49m\u001b[43m,\u001b[49m\n\u001b[32m     68\u001b[39m \u001b[43m    \u001b[49m\u001b[43mimage_min_size\u001b[49m\u001b[43m=\u001b[49m\u001b[43mimage_min_size\u001b[49m\u001b[43m,\u001b[49m\n\u001b[32m     69\u001b[39m \u001b[43m    \u001b[49m\u001b[43mbbox_annotation_format\u001b[49m\u001b[43m=\u001b[49m\u001b[43mutils\u001b[49m\u001b[43m.\u001b[49m\u001b[43mget_pydantic_model\u001b[49m\u001b[43m(\u001b[49m\n\u001b[32m     70\u001b[39m \u001b[43m        \u001b[49m\u001b[43mbbox_annotation_format\u001b[49m\u001b[43m,\u001b[49m\u001b[43m \u001b[49m\u001b[43mOptionalNullable\u001b[49m\u001b[43m[\u001b[49m\u001b[43mmodels\u001b[49m\u001b[43m.\u001b[49m\u001b[43mResponseFormat\u001b[49m\u001b[43m]\u001b[49m\n\u001b[32m     71\u001b[39m \u001b[43m    \u001b[49m\u001b[43m)\u001b[49m\u001b[43m,\u001b[49m\n\u001b[32m     72\u001b[39m \u001b[43m    \u001b[49m\u001b[43mdocument_annotation_format\u001b[49m\u001b[43m=\u001b[49m\u001b[43mutils\u001b[49m\u001b[43m.\u001b[49m\u001b[43mget_pydantic_model\u001b[49m\u001b[43m(\u001b[49m\n\u001b[32m     73\u001b[39m \u001b[43m        \u001b[49m\u001b[43mdocument_annotation_format\u001b[49m\u001b[43m,\u001b[49m\u001b[43m \u001b[49m\u001b[43mOptionalNullable\u001b[49m\u001b[43m[\u001b[49m\u001b[43mmodels\u001b[49m\u001b[43m.\u001b[49m\u001b[43mResponseFormat\u001b[49m\u001b[43m]\u001b[49m\n\u001b[32m     74\u001b[39m \u001b[43m    \u001b[49m\u001b[43m)\u001b[49m\u001b[43m,\u001b[49m\n\u001b[32m     75\u001b[39m \u001b[43m\u001b[49m\u001b[43m)\u001b[49m\n\u001b[32m     77\u001b[39m req = \u001b[38;5;28mself\u001b[39m._build_request(\n\u001b[32m     78\u001b[39m     method=\u001b[33m\"\u001b[39m\u001b[33mPOST\u001b[39m\u001b[33m\"\u001b[39m,\n\u001b[32m     79\u001b[39m     path=\u001b[33m\"\u001b[39m\u001b[33m/v1/ocr\u001b[39m\u001b[33m\"\u001b[39m,\n\u001b[32m   (...)\u001b[39m\u001b[32m     93\u001b[39m     timeout_ms=timeout_ms,\n\u001b[32m     94\u001b[39m )\n\u001b[32m     96\u001b[39m \u001b[38;5;28;01mif\u001b[39;00m retries == UNSET:\n",
      "\u001b[36mFile \u001b[39m\u001b[32m~/Python/Projects/partij_programma_wijzer/.venv/lib/python3.12/site-packages/pydantic/main.py:253\u001b[39m, in \u001b[36mBaseModel.__init__\u001b[39m\u001b[34m(self, **data)\u001b[39m\n\u001b[32m    251\u001b[39m \u001b[38;5;66;03m# `__tracebackhide__` tells pytest and some other tools to omit this function from tracebacks\u001b[39;00m\n\u001b[32m    252\u001b[39m __tracebackhide__ = \u001b[38;5;28;01mTrue\u001b[39;00m\n\u001b[32m--> \u001b[39m\u001b[32m253\u001b[39m validated_self = \u001b[38;5;28;43mself\u001b[39;49m\u001b[43m.\u001b[49m\u001b[43m__pydantic_validator__\u001b[49m\u001b[43m.\u001b[49m\u001b[43mvalidate_python\u001b[49m\u001b[43m(\u001b[49m\u001b[43mdata\u001b[49m\u001b[43m,\u001b[49m\u001b[43m \u001b[49m\u001b[43mself_instance\u001b[49m\u001b[43m=\u001b[49m\u001b[38;5;28;43mself\u001b[39;49m\u001b[43m)\u001b[49m\n\u001b[32m    254\u001b[39m \u001b[38;5;28;01mif\u001b[39;00m \u001b[38;5;28mself\u001b[39m \u001b[38;5;129;01mis\u001b[39;00m \u001b[38;5;129;01mnot\u001b[39;00m validated_self:\n\u001b[32m    255\u001b[39m     warnings.warn(\n\u001b[32m    256\u001b[39m         \u001b[33m'\u001b[39m\u001b[33mA custom validator is returning a value other than `self`.\u001b[39m\u001b[38;5;130;01m\\n\u001b[39;00m\u001b[33m'\u001b[39m\n\u001b[32m    257\u001b[39m         \u001b[33m\"\u001b[39m\u001b[33mReturning anything other than `self` from a top level model validator isn\u001b[39m\u001b[33m'\u001b[39m\u001b[33mt supported when validating via `__init__`.\u001b[39m\u001b[38;5;130;01m\\n\u001b[39;00m\u001b[33m\"\u001b[39m\n\u001b[32m    258\u001b[39m         \u001b[33m'\u001b[39m\u001b[33mSee the `model_validator` docs (https://docs.pydantic.dev/latest/concepts/validators/#model-validators) for more details.\u001b[39m\u001b[33m'\u001b[39m,\n\u001b[32m    259\u001b[39m         stacklevel=\u001b[32m2\u001b[39m,\n\u001b[32m    260\u001b[39m     )\n",
      "\u001b[31mValidationError\u001b[39m: 5 validation errors for OCRRequest\ndocument.FileChunk.file_id\n  Field required [type=missing, input_value={'type': 'document_url', ...S/8nk6BYhUM8hNFgkA%3D')}, input_type=dict]\n    For further information visit https://errors.pydantic.dev/2.11/v/missing\ndocument.FileChunk.type\n  Input should be 'file' [type=literal_error, input_value='document_url', input_type=str]\n    For further information visit https://errors.pydantic.dev/2.11/v/literal_error\ndocument.ImageURLChunk.image_url\n  Field required [type=missing, input_value={'type': 'document_url', ...S/8nk6BYhUM8hNFgkA%3D')}, input_type=dict]\n    For further information visit https://errors.pydantic.dev/2.11/v/missing\ndocument.ImageURLChunk.type\n  Input should be 'image_url' [type=literal_error, input_value='document_url', input_type=str]\n    For further information visit https://errors.pydantic.dev/2.11/v/literal_error\ndocument.DocumentURLChunk.document_url\n  Input should be a valid string [type=string_type, input_value=FileSignedURL(url='https:.../S/8nk6BYhUM8hNFgkA%3D'), input_type=FileSignedURL]\n    For further information visit https://errors.pydantic.dev/2.11/v/string_type"
     ]
    }
   ],
   "source": [
    "logger.info(f\"Running OCR on document {document_url}...\")\n",
    "ocr_result = mistral_client.ocr.process(\n",
    "    model=\"mistral-ocr-latest\",\n",
    "    document={\n",
    "        \"type\": \"document_url\",\n",
    "        \"document_url\": document_url.url,\n",
    "    },\n",
    "    include_image_base64=False\n",
    ")"
   ]
  },
  {
   "cell_type": "code",
   "execution_count": null,
   "id": "d2f8b0a3",
   "metadata": {},
   "outputs": [],
   "source": [
    "response_markdown = '\\n\\n'.join([page.markdown for page in ocr_result.pages])\n",
    "print(response_markdown)"
   ]
  }
 ],
 "metadata": {
  "kernelspec": {
   "display_name": "partij_programma_wijzer",
   "language": "python",
   "name": "python3"
  },
  "language_info": {
   "codemirror_mode": {
    "name": "ipython",
    "version": 3
   },
   "file_extension": ".py",
   "mimetype": "text/x-python",
   "name": "python",
   "nbconvert_exporter": "python",
   "pygments_lexer": "ipython3",
   "version": "3.12.6"
  }
 },
 "nbformat": 4,
 "nbformat_minor": 5
}
