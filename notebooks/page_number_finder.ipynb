{
 "cells": [
  {
   "cell_type": "markdown",
   "id": "be2ae77f",
   "metadata": {},
   "source": [
    "This notebook explores options for finding the page number for any passage / chunk. The process is as follows:\n",
    "- given a chunk, get the headers from the metadata\n",
    "- In the mistral ocr result, find a match for the largest header\n",
    "- If found, find the corresponding page number\n",
    "- Look for the second largest header; if found replace the found page number with this page number\n",
    "- repeat for the third header.\n",
    "\n",
    "Using this technique, this code should find the page number for the smalles header containing this text.\n",
    "Note that it's also possible to look for matches for the chunk text itself, but this becomes tricky when a chunk is split over multiple pages.\n",
    "\n",
    "Since the markdown file is manually edited, it might be possible that header names are edited as well, so the code uses fuzzy matching."
   ]
  },
  {
   "cell_type": "code",
   "execution_count": null,
   "id": "199e918d",
   "metadata": {},
   "outputs": [],
   "source": [
    "from fuzzywuzzy import fuzz\n",
    "import json\n",
    "from pathlib import Path\n",
    "import re\n",
    "\n",
    "from src.config import FilePaths\n",
    "from src.document_chunking import chunk_markdown_file\n",
    "from src.enums import Party"
   ]
  },
  {
   "cell_type": "code",
   "execution_count": null,
   "id": "23b37848",
   "metadata": {},
   "outputs": [
    {
     "name": "stderr",
     "output_type": "stream",
     "text": [
      "/Users/coenrouwmaat/Python/Projects/partij_programma_wijzer/.venv/lib/python3.12/site-packages/fuzzywuzzy/fuzz.py:11: UserWarning: Using slow pure-python SequenceMatcher. Install python-Levenshtein to remove this warning\n",
      "  warnings.warn('Using slow pure-python SequenceMatcher. Install python-Levenshtein to remove this warning')\n"
     ]
    }
   ],
   "source": [
    "def get_chunk_page_with_fuzzy_matching(\n",
    "    raw_ocr_path: Path,\n",
    "    chunk_metadata: dict,\n",
    "    confidence_threshold: int = 85\n",
    ") -> int:\n",
    "    \"\"\"\n",
    "    Finds a chunk's page number by combining regex and fuzzy matching on headers.\n",
    "    \n",
    "    Args:\n",
    "        raw_ocr_path (Path): Path to the raw OCR JSON file.\n",
    "        chunk_metadata (dict): The metadata dictionary from a chunk.\n",
    "        confidence_threshold (int): The minimum fuzzy match score to be considered a match.\n",
    "        \n",
    "    Returns:\n",
    "        int: The page number of the best match, or -1 if no match is found.\n",
    "    \"\"\"\n",
    "    try:\n",
    "        with open(raw_ocr_path, 'r', encoding='utf-8') as f:\n",
    "            ocr_data = json.load(f)\n",
    "    except (FileNotFoundError, json.JSONDecodeError):\n",
    "        return -1\n",
    "\n",
    "    pages = ocr_data.get(\"pages\", [])\n",
    "    if not pages:\n",
    "        return -1\n",
    "\n",
    "    # Define the header hierarchy\n",
    "    header_hierarchy = [\"Hoofdstuk\", \"Sectie\", \"Subsectie\"]\n",
    "\n",
    "    found_page = -1\n",
    "    best_match_score = 0\n",
    "\n",
    "    for header_type in header_hierarchy:\n",
    "        header_title = chunk_metadata.get(header_type)\n",
    "        if not header_title:\n",
    "            continue\n",
    "\n",
    "        print(\"Looking for\", header_title)\n",
    "\n",
    "        regex_pattern = r\"^#{1,3}\\s.*\"\n",
    "        \n",
    "        # Iterate over pages to find a match\n",
    "        for page in pages:\n",
    "            markdown_text = page.get(\"markdown\", \"\")\n",
    "\n",
    "            page_headers = re.findall(regex_pattern, markdown_text, re.MULTILINE)\n",
    "\n",
    "            for header in page_headers:\n",
    "                header_text = re.sub(r\"^#{1,3}\\s\", \"\", header).strip()\n",
    "                match_score = fuzz.partial_ratio(header_title, header_text)\n",
    "            \n",
    "                if match_score >= confidence_threshold and match_score >= best_match_score:\n",
    "                    best_match_score = match_score\n",
    "                    found_page = page.get(\"index\", -1)\n",
    "                    print(header, match_score, found_page)\n",
    "                    break\n",
    "    \n",
    "    return found_page"
   ]
  },
  {
   "cell_type": "code",
   "execution_count": null,
   "id": "fc736a7c",
   "metadata": {},
   "outputs": [],
   "source": [
    "party = Party.VVD\n",
    "\n",
    "clean_markdown_file = FilePaths.clean_markdown_dir / f\"{party}_clean.md\"\n",
    "\n",
    "with open(clean_markdown_file, 'r', encoding='utf-8') as file:\n",
    "    markdown_string = file.read()\n",
    "\n",
    "chunks = chunk_markdown_file(markdown_string)"
   ]
  },
  {
   "cell_type": "code",
   "execution_count": 3,
   "id": "5c5459bf",
   "metadata": {},
   "outputs": [
    {
     "data": {
      "text/plain": [
       "Document(metadata={'Hoofdstuk': 'Missie 1: Radicale economische groei', 'Sectie': 'Groei met een banenpakket voor Nederland'}, page_content='- Meer en langer doorwerken moet lonen: We willen maatregelen nemen om mensen meer te laten werken. Iedereen is nodig op de arbeidsmarkt. We vinden daarom dat bij een stijgende levensverwachting, de pensioenleeftijd mee moet stijgen. We hebben oog voor de kwetsbare groepen. We ondersteunen het langer doorwerken door meer in te zetten op een Leven Lang Ontwikkelen. Zo zorgen we dat er genoeg mensen zijn om bijvoorbeeld in de zorg, het onderwijs of in de techniek te werken.')"
      ]
     },
     "execution_count": 3,
     "metadata": {},
     "output_type": "execute_result"
    }
   ],
   "source": [
    "chunk = chunks[100]\n",
    "chunk"
   ]
  },
  {
   "cell_type": "code",
   "execution_count": null,
   "id": "0a773a1c",
   "metadata": {},
   "outputs": [
    {
     "name": "stdout",
     "output_type": "stream",
     "text": [
      "Looking for Missie 1: Radicale economische groei\n",
      "# Missie 1: Radicale economische groei  100 5\n",
      "# Missie 1: Radicale economische groei  100 6\n",
      "Looking for Groei met een banenpakket voor Nederland\n",
      "# Groei met een banenpakket voor Nederland  100 12\n"
     ]
    },
    {
     "data": {
      "text/plain": [
       "12"
      ]
     },
     "execution_count": 4,
     "metadata": {},
     "output_type": "execute_result"
    }
   ],
   "source": [
    "get_chunk_page_with_fuzzy_matching(\n",
    "    raw_ocr_path=FilePaths.json_dir / f\"{party}.json\",\n",
    "    chunk_metadata=chunk.metadata\n",
    ")"
   ]
  }
 ],
 "metadata": {
  "kernelspec": {
   "display_name": "partij_programma_wijzer",
   "language": "python",
   "name": "python3"
  },
  "language_info": {
   "codemirror_mode": {
    "name": "ipython",
    "version": 3
   },
   "file_extension": ".py",
   "mimetype": "text/x-python",
   "name": "python",
   "nbconvert_exporter": "python",
   "pygments_lexer": "ipython3",
   "version": "3.12.6"
  }
 },
 "nbformat": 4,
 "nbformat_minor": 5
}
