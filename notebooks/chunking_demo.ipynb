{
 "cells": [
  {
   "cell_type": "markdown",
   "id": "b5f4e2fe",
   "metadata": {},
   "source": [
    "## Setup"
   ]
  },
  {
   "cell_type": "markdown",
   "id": "ad41c6a9",
   "metadata": {},
   "source": [
    "### Imports"
   ]
  },
  {
   "cell_type": "code",
   "execution_count": null,
   "id": "268e422b",
   "metadata": {},
   "outputs": [],
   "source": [
    "import pandas as pd\n",
    "from langchain_core.documents import Document\n",
    "from langchain_text_splitters import (MarkdownHeaderTextSplitter,\n",
    "                                      RecursiveCharacterTextSplitter)\n",
    "\n",
    "from src.config import FilePaths\n",
    "from src.enums import Party"
   ]
  },
  {
   "cell_type": "markdown",
   "id": "d5cec773",
   "metadata": {},
   "source": [
    "### Config"
   ]
  },
  {
   "cell_type": "code",
   "execution_count": null,
   "id": "47d15b31",
   "metadata": {},
   "outputs": [],
   "source": [
    "party = Party.VIJFTIG_PLUS\n",
    "\n",
    "# Short markdown files are formatted and trimmed; no introduction, summary etc\n",
    "short_markdown_file = FilePaths.short_markdown_dir / f\"{party}_short.md\"\n",
    "\n",
    "markdown_splitter = MarkdownHeaderTextSplitter(\n",
    "    headers_to_split_on=[\n",
    "        (\"#\", \"Hoofdstuk\"),\n",
    "        (\"##\", \"Sectie\"),\n",
    "        (\"###\", \"Subsectie\"),\n",
    "    ],\n",
    "    strip_headers=True,\n",
    ")\n",
    "recursive_splitter = RecursiveCharacterTextSplitter(\n",
    "    chunk_size=512,\n",
    "    chunk_overlap=50,\n",
    "    separators=[\"\\n\\n\", \".\\n\", \"\\n\", \".\", \" \", \"\"],\n",
    "    keep_separator=\"end\",\n",
    ")\n"
   ]
  },
  {
   "cell_type": "markdown",
   "id": "0f88548a",
   "metadata": {},
   "source": [
    "## Chunking"
   ]
  },
  {
   "cell_type": "code",
   "execution_count": null,
   "id": "729178fb",
   "metadata": {},
   "outputs": [],
   "source": [
    "with open(short_markdown_file, 'r', encoding='utf-8') as file:\n",
    "    markdown_string = file.read()\n",
    "\n",
    "# Step 1: Split the markdown text by headers\n",
    "md_header_splits = markdown_splitter.split_text(markdown_string)\n",
    "\n",
    "# Step 2: Recursively split the header chunks into smaller chunks\n",
    "chunks = recursive_splitter.split_documents(md_header_splits)\n",
    "\n",
    "example_chunk = chunks[20]\n",
    "example_chunk"
   ]
  },
  {
   "cell_type": "markdown",
   "id": "d4ab1ef3",
   "metadata": {},
   "source": [
    "### Chunks visualization"
   ]
  },
  {
   "cell_type": "code",
   "execution_count": null,
   "id": "5ce51cb6",
   "metadata": {},
   "outputs": [],
   "source": [
    "def chunks_to_dataframe(chunks: list[Document]) -> pd.DataFrame:\n",
    "    \"\"\"\n",
    "    Converts a list of LangChain Document objects into a pandas DataFrame,\n",
    "    extracting specified metadata fields.\n",
    "    \"\"\"\n",
    "    data = []\n",
    "    \n",
    "    for chunk in chunks:\n",
    "        metadata = chunk.metadata\n",
    "        page_content = chunk.page_content\n",
    "\n",
    "        # Extract metadata fields with a default value of None or an empty string\n",
    "        hoofdstuk = metadata.get('Hoofdstuk', \"\")\n",
    "        sectie = metadata.get('Sectie', \"\")\n",
    "        subsectie = metadata.get('Subsectie', \"\")\n",
    "\n",
    "        data.append({\n",
    "            'Hoofdstuk': hoofdstuk,\n",
    "            'Sectie': sectie,\n",
    "            'Subsectie': subsectie,\n",
    "            'Text': page_content,\n",
    "        })\n",
    "        \n",
    "    return pd.DataFrame(data)"
   ]
  },
  {
   "cell_type": "code",
   "execution_count": null,
   "id": "22943bb0",
   "metadata": {},
   "outputs": [],
   "source": [
    "chunks_to_dataframe(chunks)[:50]"
   ]
  },
  {
   "cell_type": "markdown",
   "id": "da3fd6a0",
   "metadata": {},
   "source": [
    "## Embedding"
   ]
  },
  {
   "cell_type": "markdown",
   "id": "f12a2462",
   "metadata": {},
   "source": [
    "### Process document chunks for embedding"
   ]
  },
  {
   "cell_type": "code",
   "execution_count": null,
   "id": "b5eba50f",
   "metadata": {},
   "outputs": [],
   "source": [
    "def format_embedding_content(chunk: Document) -> str:\n",
    "    metadata = chunk.metadata\n",
    "    page_content = chunk.page_content\n",
    "\n",
    "    chapter_title = metadata.get(\"Hoofdstuk\")\n",
    "    if not chapter_title:\n",
    "        raise ValueError(\"No chapter title found\")\n",
    "\n",
    "    section_title = metadata.get(\"Sectie\", \"\")\n",
    "    subsection_title = metadata.get(\"Subsectie\", \"\")\n",
    "\n",
    "    embedding_content = f\"{chapter_title}\\n{section_title}\\n{subsection_title}\\n{page_content}\"\n",
    "\n",
    "    return embedding_content"
   ]
  },
  {
   "cell_type": "code",
   "execution_count": null,
   "id": "f7f2e5a9",
   "metadata": {},
   "outputs": [],
   "source": [
    "embedding_content = format_embedding_content(example_chunk)\n",
    "\n",
    "print(embedding_content)"
   ]
  },
  {
   "cell_type": "code",
   "execution_count": null,
   "id": "22fb5c58",
   "metadata": {},
   "outputs": [],
   "source": []
  }
 ],
 "metadata": {
  "kernelspec": {
   "display_name": "partij_programma_wijzer",
   "language": "python",
   "name": "python3"
  },
  "language_info": {
   "codemirror_mode": {
    "name": "ipython",
    "version": 3
   },
   "file_extension": ".py",
   "mimetype": "text/x-python",
   "name": "python",
   "nbconvert_exporter": "python",
   "pygments_lexer": "ipython3",
   "version": "3.12.6"
  }
 },
 "nbformat": 4,
 "nbformat_minor": 5
}
